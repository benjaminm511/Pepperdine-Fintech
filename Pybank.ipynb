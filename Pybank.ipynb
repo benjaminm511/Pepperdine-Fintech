{
 "cells": [
  {
   "cell_type": "code",
   "execution_count": 4,
   "id": "a15be110-4cef-4c07-86c6-53c337712dad",
   "metadata": {},
   "outputs": [],
   "source": [
    "from pathlib import Path\n",
    "import csv"
   ]
  },
  {
   "cell_type": "code",
   "execution_count": 5,
   "id": "bc614404-efcd-4fe4-89ef-05e912464bbf",
   "metadata": {},
   "outputs": [],
   "source": [
    "#create path\n",
    "csvpath = Path(\"Budget_data.csv\")\n",
    "\n",
    "# Assign your variables \n",
    "df = []\n",
    "increase_month =[\"\"]\n",
    "decrease_month =[\"\"]\n",
    "previous_val = 0\n",
    "Total_Months = 1\n",
    "Total = 0\n",
    "Average_Change = 0\n",
    "Greatest_Increase = 0\n",
    "Greatest_Decrease = 0\n"
   ]
  },
  {
   "cell_type": "code",
   "execution_count": 6,
   "id": "c52a0e83-3449-4d37-9edc-f8c5d4a54c10",
   "metadata": {},
   "outputs": [],
   "source": [
    "# grabbing csv file and opening it\n",
    "with open(csvpath, \"r\") as csvfile:\n",
    "    csvreader = csv.reader(csvfile)    \n",
    "    next(csvreader)\n",
    "    # adding a second \"next\" to give the initial \"previous value\" the correct starting point\n",
    "    df = next(csvreader)\n",
    "    previous_val = int(df[1])\n",
    "    Total = previous_val\n",
    "   \n",
    "    for row in csvreader:\n",
    "         #get total number of months     \n",
    "        Total_Months = Total_Months +1\n",
    "        Total = Total + int(row[1])\n",
    "        Average_Change = Average_Change + (int(row[1])-previous_val)\n",
    "   \n",
    "        # if statments to get values from for loop        \n",
    "      \n",
    "        #claculate month with greatest increse\n",
    "        if int(row[1]) - previous_val > Greatest_Increase:\n",
    "            Greatest_Increase = int(row[1]) - previous_val\n",
    "            increase_month = (row[0])\n",
    "        #calculate month with greatest decrease\n",
    "        elif int(row[1]) - previous_val < Greatest_Decrease:\n",
    "            Greatest_Decrease = int(row[1]) - previous_val\n",
    "            decrease_month = (row[0])\n",
    "        previous_val = int(row[1])   \n",
    "   #calculate the average change\n",
    "    Average_Change = Average_Change/(Total_Months-1)"
   ]
  },
  {
   "cell_type": "code",
   "execution_count": 7,
   "id": "4f454f26-78f0-419c-9321-1e81a6ce36d0",
   "metadata": {},
   "outputs": [
    {
     "name": "stdout",
     "output_type": "stream",
     "text": [
      "Total: 38382578\n",
      "Total Months: 86\n",
      "Average  Change: -2315.12\n",
      "Greatest Increase in Profits: Feb-2012 : 1926159\n",
      "Greatest Decrease in Profits: Sep-2013 : -2196167\n"
     ]
    }
   ],
   "source": [
    "# results \n",
    "print(\"Total:\", Total)\n",
    "print(\"Total Months:\", Total_Months)\n",
    "print(\"Average  Change:\", round(Average_Change,2))\n",
    "print(\"Greatest Increase in Profits:\", increase_month,\":\", Greatest_Increase)\n",
    "print(\"Greatest Decrease in Profits:\", decrease_month,\":\", Greatest_Decrease)"
   ]
  },
  {
   "cell_type": "code",
   "execution_count": 20,
   "id": "b35b093f-be6f-499c-8697-0a4e1bd1f0ef",
   "metadata": {},
   "outputs": [],
   "source": [
    "output = Path(\".\", 'output.txt')\n",
    "with open(output,\"w\") as txt_file:\n",
    "    txt_file.write(\"Financial Analysis\")\n",
    "    txt_file.write(\"\\n\")\n",
    "    txt_file.write(\"------------------------\")\n",
    "    txt_file.write(\"\\n\")\n",
    "    txt_file.write(f\"Total Months:{(Total_Months)}\")\n",
    "    txt_file.write(\"\\n\")\n",
    "    txt_file.write(f\"Total: ${(Total)}\")\n",
    "    txt_file.write(\"\\n\")\n",
    "    txt_file.write(f\"Average Change: {round(Average_Change,2)}\")\n",
    "    txt_file.write(\"\\n\")\n",
    "    txt_file.write(f\"Greatest Increase in Profits: {increase_month} {Greatest_Increase}\")\n",
    "    txt_file.write(\"\\n\")\n",
    "    txt_file.write(f\"Greatest Decrease in Profits: {decrease_month} {Greatest_Decrease}\")"
   ]
  }
 ],
 "metadata": {
  "kernelspec": {
   "display_name": "Python 3",
   "language": "python",
   "name": "python3"
  },
  "language_info": {
   "codemirror_mode": {
    "name": "ipython",
    "version": 3
   },
   "file_extension": ".py",
   "mimetype": "text/x-python",
   "name": "python",
   "nbconvert_exporter": "python",
   "pygments_lexer": "ipython3",
   "version": "3.7.10"
  }
 },
 "nbformat": 4,
 "nbformat_minor": 5
}
